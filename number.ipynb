{
 "cells": [
  {
   "cell_type": "code",
   "execution_count": 83,
   "metadata": {},
   "outputs": [],
   "source": [
    "def merge_sort(A, left, right) :\n",
    "    if left<right :\n",
    "        mid = (left + right) // 2\n",
    "        merge_sort(A, left, mid)\n",
    "        merge_sort(A, mid + 1, right)\n",
    "        merge(A,left,mid,right)\n",
    "\n",
    "def merge(A, left, mid, right) : #분활정렬\n",
    "    sorted = [0] * len(A)\n",
    "    k = left\n",
    "    i = left\n",
    "    j = mid + 1\n",
    "    while i<= mid and j <= right :\n",
    "        if A[i] >= A[j] :\n",
    "            sorted[k] = A[i]\n",
    "            i, k = i+1, k+1\n",
    "\n",
    "        else :\n",
    "            sorted[k] = A[j]\n",
    "            j, k = j+1, k+1\n",
    "\n",
    "    if i>mid :\n",
    "        sorted[k:k+right - j +1] = A[j: right + 1]\n",
    "\n",
    "    else :\n",
    "        sorted[k:k+mid - i + 1] = A[i:mid + 1]\n",
    "\n",
    "    A[left:right+1] = sorted[left:right +1]\n",
    "\n",
    "def unique_elements(A):\n",
    "    n = len(A)\n",
    "    for i in range(n-1):\n",
    "        for j in range(i+1,n) :\n",
    "            if A[i] == A[j] :\n",
    "                return False\n",
    "    return True"
   ]
  },
  {
   "cell_type": "code",
   "execution_count": 171,
   "metadata": {},
   "outputs": [],
   "source": [
    "def relist (e):\n",
    "    e_r =[]\n",
    "    f_r = []\n",
    "    e = e.split('a')\n",
    "    cnt_num = 0\n",
    "    for i in e :\n",
    "        sum_1 = i.split(',')\n",
    "        sum_x = 0\n",
    "        sum_y = 0\n",
    "\n",
    "        #print(sum_1)\n",
    "        for num in sum_1:\n",
    "            cnt_num += 1\n",
    "\n",
    "            if cnt_num%2 == 1 :\n",
    "                sum_x = float(num)\n",
    "            else :\n",
    "                sum_y = float(num)\n",
    "                e_r = [sum_x,sum_y]\n",
    "                f_r.append(e_r)\n",
    "\n",
    "    last = f_r[-1]\n",
    "\n",
    "    x_sum = last[0]\n",
    "    y_sum = last[1]\n",
    "\n",
    "    return f_r, x_sum, y_sum"
   ]
  },
  {
   "cell_type": "code",
   "execution_count": 88,
   "metadata": {},
   "outputs": [
    {
     "name": "stdout",
     "output_type": "stream",
     "text": [
      "19\n",
      "[[34, 18], [33, 21], [32, 22], [32, 22], [31, 23], [31, 21], [31, 19], [30, 25], [20, 10], [10, 80]]\n",
      "[33, 20]\n",
      "[[34, 18], [33, 21], [32, 22], [32, 22], [31, 23], [31, 21], [31, 19], [30, 25], [20, 10], [10, 80]]\n"
     ]
    }
   ],
   "source": [
    "A = [[10,20], [50,30], [30,10],[40,0]]\n",
    "B = [30, 20, 10, 40, 20, 10,60, 50, 10 ,20 ,80 ,60 ,40]\n",
    "C = [[33,20],[32,20],[31,20],[30,20],[31,20],[32,20],[31,20],[34,20], [20,10], [10,80], [40, 10], [20,10], [10,50], [60,30], [50,10], [10,20] ,[20 ,20], [80, 10], [60 ,40]]\n",
    "D = [[33,21],[32,22],[31,23],[30,25],[31,21],[32,22],[31,19],[34,18], [20,10], [10,80]]\n",
    "E = ('33,21a32,22a31,23a30,25a31,21a32,22a31,19a34,18a20,10a10,80')\n",
    "\n",
    "print(len(C))\n",
    "merge_sort(D,0,len(D)-1)\n",
    "print(D)\n",
    "print(C[0])\n",
    "\n",
    "print(D)"
   ]
  },
  {
   "cell_type": "code",
   "execution_count": 172,
   "metadata": {},
   "outputs": [
    {
     "name": "stdout",
     "output_type": "stream",
     "text": [
      "[[33.0, 21.0], [32.0, 22.0], [31.0, 23.0], [30.0, 25.0], [31.0, 21.0], [32.0, 22.0], [31.0, 19.0], [34.0, 18.0], [20.0, 10.0], [10.0, 80.0]]\n",
      "10.0\n",
      "80.0\n"
     ]
    }
   ],
   "source": [
    "\n",
    "an, bn , cn= relist(E)\n",
    "print(an)\n",
    "print(bn)\n",
    "print(cn)\n",
    "\n"
   ]
  },
  {
   "cell_type": "code",
   "execution_count": 179,
   "metadata": {},
   "outputs": [
    {
     "name": "stdout",
     "output_type": "stream",
     "text": [
      "[33.0, 21.0]\n",
      "list None\n",
      "item2: 10\n",
      "[32.0, 22.0]\n",
      "list None\n",
      "item2: 10\n",
      "[31.0, 23.0]\n",
      "list None\n",
      "item2: 10\n",
      "[30.0, 25.0]\n",
      "list None\n",
      "item2: 10\n",
      "[31.0, 21.0]\n",
      "list None\n",
      "item2: 10\n",
      "[32.0, 22.0]\n",
      "list None\n",
      "item2: 10\n",
      "[31.0, 19.0]\n",
      "list None\n",
      "item2: 10\n",
      "[34.0, 18.0]\n",
      "list None\n",
      "item2: 10\n",
      "[20.0, 10.0]\n",
      "list None\n",
      "item2: 10\n",
      "[10.0, 80.0]\n",
      "list None\n",
      "item2: 10\n"
     ]
    }
   ],
   "source": [
    "import queue\n",
    "\n",
    "# 선입선출 큐 객체 생성\n",
    "fifo_queue = queue.Queue()\n",
    "listl = fifo_queue.put(10)\n",
    "# 데이터 추가\n",
    "for n in an :\n",
    "    print(n)\n",
    "    listl = fifo_queue.put(10)\n",
    "    print('list : ', listl)\n",
    "    trash = fifo_queue.get()  # item2은 20\n",
    "    print(\"item2 : \", trash)"
   ]
  }
 ],
 "metadata": {
  "kernelspec": {
   "display_name": "base",
   "language": "python",
   "name": "python3"
  },
  "language_info": {
   "codemirror_mode": {
    "name": "ipython",
    "version": 3
   },
   "file_extension": ".py",
   "mimetype": "text/x-python",
   "name": "python",
   "nbconvert_exporter": "python",
   "pygments_lexer": "ipython3",
   "version": "3.8.12"
  }
 },
 "nbformat": 4,
 "nbformat_minor": 2
}
